{
 "cells": [
  {
   "cell_type": "code",
   "execution_count": 1,
   "metadata": {
    "collapsed": true
   },
   "outputs": [],
   "source": [
    "d = {}"
   ]
  },
  {
   "cell_type": "code",
   "execution_count": 2,
   "metadata": {
    "collapsed": true
   },
   "outputs": [],
   "source": [
    "str = 'king'"
   ]
  },
  {
   "cell_type": "code",
   "execution_count": 3,
   "metadata": {
    "collapsed": true
   },
   "outputs": [],
   "source": [
    "list = [(1,2),(2,3)]"
   ]
  },
  {
   "cell_type": "code",
   "execution_count": 4,
   "metadata": {
    "collapsed": false
   },
   "outputs": [
    {
     "data": {
      "text/plain": [
       "list"
      ]
     },
     "execution_count": 4,
     "metadata": {},
     "output_type": "execute_result"
    }
   ],
   "source": [
    "type(list)"
   ]
  },
  {
   "cell_type": "code",
   "execution_count": 6,
   "metadata": {
    "collapsed": false
   },
   "outputs": [],
   "source": [
    "d[str] = list"
   ]
  },
  {
   "cell_type": "code",
   "execution_count": 8,
   "metadata": {
    "collapsed": false
   },
   "outputs": [],
   "source": [
    "import intersection as IS"
   ]
  },
  {
   "cell_type": "code",
   "execution_count": 10,
   "metadata": {
    "collapsed": false
   },
   "outputs": [
    {
     "name": "stdout",
     "output_type": "stream",
     "text": [
      "True\n",
      "2 0.8\n"
     ]
    }
   ],
   "source": [
    "A = IS.Point(2,4)\n",
    "B = IS.Point(2,0)\n",
    "C = IS.Point(0,0)\n",
    "D = IS.Point(5,2)\n",
    "print(IS.is_intersected(A,B,C,D));\n",
    "if IS.is_intersected(A,B,C,D):\n",
    "\txpp,ypp = IS.calculateIntersectionPoint(A,B,C,D)\n",
    "\tprint(xpp,ypp)"
   ]
  },
  {
   "cell_type": "code",
   "execution_count": 13,
   "metadata": {
    "collapsed": true
   },
   "outputs": [],
   "source": [
    "def a(dic,str,list):\n",
    "\tdic[str] = list;"
   ]
  },
  {
   "cell_type": "code",
   "execution_count": 15,
   "metadata": {
    "collapsed": false
   },
   "outputs": [],
   "source": [
    "dic = {}\n",
    "a(dic,'aaa',[1,2,2])"
   ]
  },
  {
   "cell_type": "code",
   "execution_count": 16,
   "metadata": {
    "collapsed": false
   },
   "outputs": [
    {
     "data": {
      "text/plain": [
       "{'aaa': [1, 2, 2]}"
      ]
     },
     "execution_count": 16,
     "metadata": {},
     "output_type": "execute_result"
    }
   ],
   "source": [
    "dic"
   ]
  },
  {
   "cell_type": "code",
   "execution_count": 17,
   "metadata": {
    "collapsed": true
   },
   "outputs": [],
   "source": [
    "s = 'a \"king\" (1,2) (2,3)'"
   ]
  },
  {
   "cell_type": "code",
   "execution_count": 18,
   "metadata": {
    "collapsed": true
   },
   "outputs": [],
   "source": [
    "slist = s.split(' ')"
   ]
  },
  {
   "cell_type": "code",
   "execution_count": 19,
   "metadata": {
    "collapsed": false
   },
   "outputs": [
    {
     "data": {
      "text/plain": [
       "['a', '\"king\"', '(1,2)', '(2,3)']"
      ]
     },
     "execution_count": 19,
     "metadata": {},
     "output_type": "execute_result"
    }
   ],
   "source": [
    "slist"
   ]
  },
  {
   "cell_type": "code",
   "execution_count": 22,
   "metadata": {
    "collapsed": false
   },
   "outputs": [
    {
     "name": "stdout",
     "output_type": "stream",
     "text": [
      "0 a\n",
      "1 \"king\"\n",
      "2 (1,2)\n",
      "3 (2,3)\n"
     ]
    }
   ],
   "source": [
    "for i,val in enumerate(slist):\n",
    "    print(i,val)"
   ]
  },
  {
   "cell_type": "code",
   "execution_count": 23,
   "metadata": {
    "collapsed": false
   },
   "outputs": [
    {
     "data": {
      "text/plain": [
       "['a', '\"king\"', '(1,2)', '(2,3)']"
      ]
     },
     "execution_count": 23,
     "metadata": {},
     "output_type": "execute_result"
    }
   ],
   "source": [
    "slist"
   ]
  },
  {
   "cell_type": "code",
   "execution_count": 24,
   "metadata": {
    "collapsed": false
   },
   "outputs": [
    {
     "data": {
      "text/plain": [
       "'a'"
      ]
     },
     "execution_count": 24,
     "metadata": {},
     "output_type": "execute_result"
    }
   ],
   "source": [
    "slist[0]"
   ]
  },
  {
   "cell_type": "code",
   "execution_count": 25,
   "metadata": {
    "collapsed": true
   },
   "outputs": [],
   "source": [
    "class Vertex(object):\n",
    "\n",
    "    def __init__(self, street, vertexPoint):\n",
    "        self.street = street;\n",
    "        self.vertexPoint = vertexPoint;"
   ]
  },
  {
   "cell_type": "code",
   "execution_count": 26,
   "metadata": {
    "collapsed": true
   },
   "outputs": [],
   "source": [
    "a = Vertex(['aaa','bbb'],(2,3))"
   ]
  },
  {
   "cell_type": "code",
   "execution_count": 27,
   "metadata": {
    "collapsed": false
   },
   "outputs": [
    {
     "data": {
      "text/plain": [
       "<__main__.Vertex at 0x10339f1d0>"
      ]
     },
     "execution_count": 27,
     "metadata": {},
     "output_type": "execute_result"
    }
   ],
   "source": [
    "a"
   ]
  },
  {
   "cell_type": "code",
   "execution_count": 28,
   "metadata": {
    "collapsed": false
   },
   "outputs": [
    {
     "data": {
      "text/plain": [
       "['aaa', 'bbb']"
      ]
     },
     "execution_count": 28,
     "metadata": {},
     "output_type": "execute_result"
    }
   ],
   "source": [
    "a.street"
   ]
  },
  {
   "cell_type": "code",
   "execution_count": 29,
   "metadata": {
    "collapsed": false
   },
   "outputs": [
    {
     "data": {
      "text/plain": [
       "(2, 3)"
      ]
     },
     "execution_count": 29,
     "metadata": {},
     "output_type": "execute_result"
    }
   ],
   "source": [
    "a.vertexPoint"
   ]
  },
  {
   "cell_type": "code",
   "execution_count": 30,
   "metadata": {
    "collapsed": true
   },
   "outputs": [],
   "source": [
    "class Street(object):\n",
    "\tdef __init__(self,streetName,streetPoint):\n",
    "\t\tself.streetName = streetName;\n",
    "\t\tself.streetPoint = streetPoint;"
   ]
  },
  {
   "cell_type": "code",
   "execution_count": 31,
   "metadata": {
    "collapsed": true
   },
   "outputs": [],
   "source": [
    "bb = Street('aaa',[(1,2),(3,3)])"
   ]
  },
  {
   "cell_type": "code",
   "execution_count": 33,
   "metadata": {
    "collapsed": false
   },
   "outputs": [
    {
     "data": {
      "text/plain": [
       "[(1, 2), (3, 3)]"
      ]
     },
     "execution_count": 33,
     "metadata": {},
     "output_type": "execute_result"
    }
   ],
   "source": [
    "bb.streetPoint"
   ]
  },
  {
   "cell_type": "code",
   "execution_count": 35,
   "metadata": {
    "collapsed": false
   },
   "outputs": [],
   "source": [
    "s_list = [(1,2),(3,3)]"
   ]
  },
  {
   "cell_type": "code",
   "execution_count": 36,
   "metadata": {
    "collapsed": true
   },
   "outputs": [],
   "source": [
    "sname = 'hello'"
   ]
  },
  {
   "cell_type": "code",
   "execution_count": 37,
   "metadata": {
    "collapsed": true
   },
   "outputs": [],
   "source": [
    "a = Street(sname,s_list)"
   ]
  },
  {
   "cell_type": "code",
   "execution_count": 52,
   "metadata": {
    "collapsed": false
   },
   "outputs": [],
   "source": [
    "class Street(object):\n",
    "\tdef __init__(self,streetName,streetPoints):\n",
    "\t\tself.streetName = streetName;\n",
    "\t\tself.streetPoints = streetPoints;\n",
    "\t\t# self.streetEdge = streetEdge;\n",
    "\n",
    "class edge(object):\n",
    "\tdef __init__(self,streetName,vertexPoint):\n",
    "\t\tself.streetName = streetName;\n",
    "\t\tself.vertexPoint = vertexPoint;\n",
    "\n",
    "def a(str,list):\n",
    "    street = Street(str,list);\n",
    "    return street;"
   ]
  },
  {
   "cell_type": "code",
   "execution_count": 57,
   "metadata": {
    "collapsed": false
   },
   "outputs": [],
   "source": [
    "aStreet = a('h',[(1,2),(3,3)])"
   ]
  },
  {
   "cell_type": "code",
   "execution_count": 58,
   "metadata": {
    "collapsed": false
   },
   "outputs": [
    {
     "data": {
      "text/plain": [
       "<__main__.Street at 0x1033aada0>"
      ]
     },
     "execution_count": 58,
     "metadata": {},
     "output_type": "execute_result"
    }
   ],
   "source": [
    "aStreet"
   ]
  },
  {
   "cell_type": "code",
   "execution_count": 56,
   "metadata": {
    "collapsed": false
   },
   "outputs": [],
   "source": [
    "def a(str,list):\n",
    "\treturn Street(str,list)"
   ]
  },
  {
   "cell_type": "code",
   "execution_count": 59,
   "metadata": {
    "collapsed": true
   },
   "outputs": [],
   "source": [
    "l = ['a','hello',(1,2),(3,2),(3,3)]"
   ]
  },
  {
   "cell_type": "code",
   "execution_count": 62,
   "metadata": {
    "collapsed": false
   },
   "outputs": [
    {
     "data": {
      "text/plain": [
       "[(1, 2), (3, 2), (3, 3)]"
      ]
     },
     "execution_count": 62,
     "metadata": {},
     "output_type": "execute_result"
    }
   ],
   "source": [
    "l[2:]"
   ]
  },
  {
   "cell_type": "code",
   "execution_count": 63,
   "metadata": {
    "collapsed": true
   },
   "outputs": [],
   "source": [
    "command = l[0]"
   ]
  },
  {
   "cell_type": "code",
   "execution_count": 64,
   "metadata": {
    "collapsed": false
   },
   "outputs": [
    {
     "data": {
      "text/plain": [
       "True"
      ]
     },
     "execution_count": 64,
     "metadata": {},
     "output_type": "execute_result"
    }
   ],
   "source": [
    "command == 'a'"
   ]
  },
  {
   "cell_type": "code",
   "execution_count": 65,
   "metadata": {
    "collapsed": true
   },
   "outputs": [],
   "source": [
    "l.remove('hello')"
   ]
  },
  {
   "cell_type": "code",
   "execution_count": 66,
   "metadata": {
    "collapsed": false
   },
   "outputs": [
    {
     "data": {
      "text/plain": [
       "['a', (1, 2), (3, 2), (3, 3)]"
      ]
     },
     "execution_count": 66,
     "metadata": {},
     "output_type": "execute_result"
    }
   ],
   "source": [
    "l"
   ]
  },
  {
   "cell_type": "code",
   "execution_count": 67,
   "metadata": {
    "collapsed": true
   },
   "outputs": [],
   "source": [
    "l = [];"
   ]
  },
  {
   "cell_type": "code",
   "execution_count": 74,
   "metadata": {
    "collapsed": true
   },
   "outputs": [],
   "source": [
    "aa = Street('h',[(1,2)])"
   ]
  },
  {
   "cell_type": "code",
   "execution_count": 71,
   "metadata": {
    "collapsed": false
   },
   "outputs": [],
   "source": [
    "b = []\n"
   ]
  },
  {
   "cell_type": "code",
   "execution_count": 75,
   "metadata": {
    "collapsed": true
   },
   "outputs": [],
   "source": [
    "b.append(aa)"
   ]
  },
  {
   "cell_type": "code",
   "execution_count": 76,
   "metadata": {
    "collapsed": false
   },
   "outputs": [
    {
     "data": {
      "text/plain": [
       "[<__main__.Street at 0x1033969e8>, <__main__.Street at 0x1033969b0>]"
      ]
     },
     "execution_count": 76,
     "metadata": {},
     "output_type": "execute_result"
    }
   ],
   "source": [
    "b"
   ]
  },
  {
   "cell_type": "code",
   "execution_count": 77,
   "metadata": {
    "collapsed": true
   },
   "outputs": [],
   "source": [
    "b.remove(a)"
   ]
  },
  {
   "cell_type": "code",
   "execution_count": 78,
   "metadata": {
    "collapsed": false
   },
   "outputs": [
    {
     "data": {
      "text/plain": [
       "[<__main__.Street at 0x1033969b0>]"
      ]
     },
     "execution_count": 78,
     "metadata": {},
     "output_type": "execute_result"
    }
   ],
   "source": [
    "b"
   ]
  },
  {
   "cell_type": "code",
   "execution_count": 79,
   "metadata": {
    "collapsed": false
   },
   "outputs": [
    {
     "name": "stdout",
     "output_type": "stream",
     "text": [
      "\"king\"\n",
      "['(1,2)', '(2,3)', '(3,4)']\n",
      "\"hello\"\n",
      "['(1,2)', '(2,3)', '(3,4)', '(0,0)', '(3,2)']\n"
     ]
    }
   ],
   "source": [
    "import intersection as IS\n",
    "\n",
    "# A = IS.Point(2,4)\n",
    "# B = IS.Point(2,0)\n",
    "# C = IS.Point(0,0)\n",
    "# D = IS.Point(5,2)\n",
    "# print(IS.is_intersected(A,B,C,D));\n",
    "# if IS.is_intersected(A,B,C,D):\n",
    "# \txpp,ypp = IS.calculateIntersectionPoint(A,B,C,D)\n",
    "# \tprint(xpp,ypp)\n",
    "\n",
    "class Vertex(object):\n",
    "\n",
    "    def __init__(self, street, vertexPoint):\n",
    "        self.street = street;\n",
    "        self.vertexPoint = vertexPoint;\n",
    "\n",
    "class Street(object):\n",
    "\tdef __init__(self,streetName,streetPoints):\n",
    "\t\tself.streetName = streetName;\n",
    "\t\tself.streetPoints = streetPoints;\n",
    "\t\t# self.streetEdge = streetEdge;\n",
    "\n",
    "class edge(object):\n",
    "\tdef __init__(self,streetName,vertexPoint):\n",
    "\t\tself.streetName = streetName;\n",
    "\t\tself.vertexPoint = vertexPoint;\n",
    "\n",
    "def a(str,list):\n",
    "\treturn Street(str,list)\n",
    "\n",
    "def c(streetList,str,list):\n",
    "\tfor s in streetList:\n",
    "\t\tif s.streetName == str:\n",
    "\t\t\ts.streetPoints = list;\n",
    "\n",
    "def r(streetList,str):\n",
    "\tfor s in streetList:\n",
    "\t\tif s.streetName == str:\n",
    "\t\t\tstreetList.remove(s)\n",
    "\n",
    "\n",
    "\n",
    "\n",
    "def readInput(s):\n",
    "\ts_list = s.split(' ');\n",
    "\tcommand = s_list[0];\n",
    "\tstr = s_list[1];\n",
    "\tpointList = s_list[2:];\n",
    "\treturn command,str,pointList\n",
    "\n",
    "streetList = [];\n",
    "s = 'a \"king\" (1,2) (2,3) (3,4)';\n",
    "command,str,pointList = readInput(s);\n",
    "streetList.append(a(str,pointList));\n",
    "\n",
    "s = 'a \"hello\" (1,2) (2,3) (3,4) (0,0) (3,2)';\n",
    "command,str,pointList = readInput(s);\n",
    "streetList.append(a(str,pointList));\n",
    "\n",
    "for s in streetList:\n",
    "\tprint(s.streetName)\n",
    "\tprint(s.streetPoints)\n",
    "\n",
    "# a(dict,'aaa',[1,11,3])\n",
    "# print(dict)\n",
    "# s = input();\n",
    "# s_list = s.split(' ');\n",
    "# command = s_list[0];\n",
    "# streetName = \n",
    "\n",
    "\t\n",
    "\n"
   ]
  },
  {
   "cell_type": "code",
   "execution_count": 80,
   "metadata": {
    "collapsed": false
   },
   "outputs": [
    {
     "name": "stdout",
     "output_type": "stream",
     "text": [
      "\"king\"\n",
      "['(1,2)', '(2,3)', '(3,4)']\n",
      "\"hello\"\n",
      "['(1,2)', '(2,3)', '(3,4)', '(0,0)', '(3,2)']\n",
      "\"king\"\n",
      "['(1,2)', '(2,3)', '(3,4)']\n",
      "\"hello\"\n",
      "['(-1,-1)', '(-2,-2)']\n"
     ]
    }
   ],
   "source": [
    "import intersection as IS\n",
    "\n",
    "# A = IS.Point(2,4)\n",
    "# B = IS.Point(2,0)\n",
    "# C = IS.Point(0,0)\n",
    "# D = IS.Point(5,2)\n",
    "# print(IS.is_intersected(A,B,C,D));\n",
    "# if IS.is_intersected(A,B,C,D):\n",
    "# \txpp,ypp = IS.calculateIntersectionPoint(A,B,C,D)\n",
    "# \tprint(xpp,ypp)\n",
    "\n",
    "class Vertex(object):\n",
    "\n",
    "    def __init__(self, street, vertexPoint):\n",
    "        self.street = street;\n",
    "        self.vertexPoint = vertexPoint;\n",
    "\n",
    "class Street(object):\n",
    "\tdef __init__(self,streetName,streetPoints):\n",
    "\t\tself.streetName = streetName;\n",
    "\t\tself.streetPoints = streetPoints;\n",
    "\t\t# self.streetEdge = streetEdge;\n",
    "\n",
    "class edge(object):\n",
    "\tdef __init__(self,streetName,vertexPoint):\n",
    "\t\tself.streetName = streetName;\n",
    "\t\tself.vertexPoint = vertexPoint;\n",
    "\n",
    "def a(str,list):\n",
    "\treturn Street(str,list)\n",
    "\n",
    "def c(streetList,str,list):\n",
    "\tfor s in streetList:\n",
    "\t\tif s.streetName == str:\n",
    "\t\t\ts.streetPoints = list;\n",
    "\n",
    "def r(streetList,str):\n",
    "\tfor s in streetList:\n",
    "\t\tif s.streetName == str:\n",
    "\t\t\tstreetList.remove(s)\n",
    "\n",
    "\n",
    "\n",
    "\n",
    "def readInput(s):\n",
    "\ts_list = s.split(' ');\n",
    "\tcommand = s_list[0];\n",
    "\tstr = s_list[1];\n",
    "\tpointList = s_list[2:];\n",
    "\treturn command,str,pointList\n",
    "\n",
    "# test func of a()\n",
    "streetList = [];\n",
    "s = 'a \"king\" (1,2) (2,3) (3,4)';\n",
    "command,str,pointList = readInput(s);\n",
    "streetList.append(a(str,pointList));\n",
    "\n",
    "s = 'a \"hello\" (1,2) (2,3) (3,4) (0,0) (3,2)';\n",
    "command,str,pointList = readInput(s);\n",
    "streetList.append(a(str,pointList));\n",
    "\n",
    "for s in streetList:\n",
    "\tprint(s.streetName)\n",
    "\tprint(s.streetPoints)\n",
    "\n",
    "s = 'c \"hello\" (-1,-1) (-2,-2)';\n",
    "command,str,pointList = readInput(s);\n",
    "if command == 'c':\n",
    "\tc(streetList,str,pointList);\n",
    "\n",
    "for s in streetList:\n",
    "\tprint(s.streetName)\n",
    "\tprint(s.streetPoints)\n",
    "\n",
    "\t\n",
    "\n"
   ]
  },
  {
   "cell_type": "code",
   "execution_count": 81,
   "metadata": {
    "collapsed": false
   },
   "outputs": [
    {
     "name": "stdout",
     "output_type": "stream",
     "text": [
      "\"king\"\n",
      "['(1,2)', '(2,3)', '(3,4)']\n",
      "\"hello\"\n",
      "['(1,2)', '(2,3)', '(3,4)', '(0,0)', '(3,2)']\n",
      "\"king\"\n",
      "['(1,2)', '(2,3)', '(3,4)']\n",
      "\"hello\"\n",
      "['(-1,-1)', '(-2,-2)']\n",
      "\"king\"\n",
      "['(1,2)', '(2,3)', '(3,4)']\n"
     ]
    }
   ],
   "source": [
    "import intersection as IS\n",
    "\n",
    "# A = IS.Point(2,4)\n",
    "# B = IS.Point(2,0)\n",
    "# C = IS.Point(0,0)\n",
    "# D = IS.Point(5,2)\n",
    "# print(IS.is_intersected(A,B,C,D));\n",
    "# if IS.is_intersected(A,B,C,D):\n",
    "# \txpp,ypp = IS.calculateIntersectionPoint(A,B,C,D)\n",
    "# \tprint(xpp,ypp)\n",
    "\n",
    "class Vertex(object):\n",
    "\n",
    "    def __init__(self, street, vertexPoint):\n",
    "        self.street = street;\n",
    "        self.vertexPoint = vertexPoint;\n",
    "\n",
    "class Street(object):\n",
    "\tdef __init__(self,streetName,streetPoints):\n",
    "\t\tself.streetName = streetName;\n",
    "\t\tself.streetPoints = streetPoints;\n",
    "\t\t# self.streetEdge = streetEdge;\n",
    "\n",
    "class edge(object):\n",
    "\tdef __init__(self,streetName,vertexPoint):\n",
    "\t\tself.streetName = streetName;\n",
    "\t\tself.vertexPoint = vertexPoint;\n",
    "\n",
    "def a(str,list):\n",
    "\treturn Street(str,list)\n",
    "\n",
    "def c(streetList,str,list):\n",
    "\tfor s in streetList:\n",
    "\t\tif s.streetName == str:\n",
    "\t\t\ts.streetPoints = list;\n",
    "\n",
    "def r(streetList,str):\n",
    "\tfor s in streetList:\n",
    "\t\tif s.streetName == str:\n",
    "\t\t\tstreetList.remove(s);\n",
    "\n",
    "def r(streetList,str):\n",
    "\tfor s in streetList:\n",
    "\t\tif s.streetName == str:\n",
    "\t\t\tstreetList.remove(s)\n",
    "\n",
    "\n",
    "\n",
    "\n",
    "def readInput(s):\n",
    "\ts_list = s.split(' ');\n",
    "\tcommand = s_list[0];\n",
    "\tstr = s_list[1];\n",
    "\tpointList = s_list[2:];\n",
    "\treturn command,str,pointList\n",
    "\n",
    "# test func of a()\n",
    "streetList = [];\n",
    "s = 'a \"king\" (1,2) (2,3) (3,4)';\n",
    "command,str,pointList = readInput(s);\n",
    "streetList.append(a(str,pointList));\n",
    "\n",
    "s = 'a \"hello\" (1,2) (2,3) (3,4) (0,0) (3,2)';\n",
    "command,str,pointList = readInput(s);\n",
    "streetList.append(a(str,pointList));\n",
    "\n",
    "for s in streetList:\n",
    "\tprint(s.streetName)\n",
    "\tprint(s.streetPoints)\n",
    "\n",
    "s = 'c \"hello\" (-1,-1) (-2,-2)';\n",
    "command,str,pointList = readInput(s);\n",
    "if command == 'c':\n",
    "\tc(streetList,str,pointList);\n",
    "\n",
    "for s in streetList:\n",
    "\tprint(s.streetName)\n",
    "\tprint(s.streetPoints)\n",
    "\n",
    "s = 'r \"hello\" (-1,-1) (-2,-2)';\n",
    "command,str,pointList = readInput(s);\n",
    "if command == 'r':\n",
    "\tr(streetList,str);\n",
    "\n",
    "for s in streetList:\n",
    "\tprint(s.streetName)\n",
    "\tprint(s.streetPoints)\n",
    "\n",
    "\t\n",
    "\n"
   ]
  },
  {
   "cell_type": "code",
   "execution_count": 82,
   "metadata": {
    "collapsed": true
   },
   "outputs": [],
   "source": [
    "import sys"
   ]
  },
  {
   "cell_type": "code",
   "execution_count": 85,
   "metadata": {
    "collapsed": false
   },
   "outputs": [
    {
     "ename": "TypeError",
     "evalue": "'str' object cannot be interpreted as an integer",
     "output_type": "error",
     "traceback": [
      "\u001b[0;31m------------------------------------------------------------------------\u001b[0m",
      "\u001b[0;31mTypeError\u001b[0m                              Traceback (most recent call last)",
      "\u001b[0;32m<ipython-input-85-8e76ddaad542>\u001b[0m in \u001b[0;36m<module>\u001b[0;34m()\u001b[0m\n\u001b[0;32m----> 1\u001b[0;31m \u001b[0mline\u001b[0m \u001b[0;34m=\u001b[0m \u001b[0msys\u001b[0m\u001b[0;34m.\u001b[0m\u001b[0mstdin\u001b[0m\u001b[0;34m.\u001b[0m\u001b[0mreadline\u001b[0m\u001b[0;34m(\u001b[0m\u001b[0;34m'a \"hello\" (1,2)'\u001b[0m\u001b[0;34m)\u001b[0m\u001b[0;34m\u001b[0m\u001b[0m\n\u001b[0m",
      "\u001b[0;31mTypeError\u001b[0m: 'str' object cannot be interpreted as an integer"
     ]
    }
   ],
   "source": [
    "line = sys.stdin.readline('a \"hello\" (1,2)')"
   ]
  },
  {
   "cell_type": "code",
   "execution_count": 84,
   "metadata": {
    "collapsed": false
   },
   "outputs": [
    {
     "data": {
      "text/plain": [
       "''"
      ]
     },
     "execution_count": 84,
     "metadata": {},
     "output_type": "execute_result"
    }
   ],
   "source": [
    "line"
   ]
  },
  {
   "cell_type": "code",
   "execution_count": null,
   "metadata": {
    "collapsed": true
   },
   "outputs": [],
   "source": []
  }
 ],
 "metadata": {
  "kernelspec": {
   "display_name": "Python 3",
   "language": "python",
   "name": "python3"
  },
  "language_info": {
   "codemirror_mode": {
    "name": "ipython",
    "version": 3
   },
   "file_extension": ".py",
   "mimetype": "text/x-python",
   "name": "python",
   "nbconvert_exporter": "python",
   "pygments_lexer": "ipython3",
   "version": "3.6.0"
  }
 },
 "nbformat": 4,
 "nbformat_minor": 2
}
